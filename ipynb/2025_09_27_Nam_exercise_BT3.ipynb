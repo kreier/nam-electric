{
  "nbformat": 4,
  "nbformat_minor": 0,
  "metadata": {
    "colab": {
      "provenance": []
    },
    "kernelspec": {
      "name": "python3",
      "display_name": "Python 3"
    },
    "language_info": {
      "name": "python"
    }
  },
  "cells": [
    {
      "cell_type": "markdown",
      "source": [
        "# Exercise BT3\n",
        "\n",
        "This was shared with my by Nam Nguyễn of the Tôn Đức Thắng University in Saigon. Here is the assignment in Vietnamese:\n",
        "\n",
        "![part 1](https://kreier.github.io/nam-electric/images/2025-09-27_p1.jpg)\n",
        "\n",
        "It states that this system is operating with 380V, which would be the AC voltage for the 3 phases A, B and C and result in $V_{CN} = 380V \\cdot \\sqrt3 = 219.4V$ or the 220V we usually use. Yet something does not add up here. The phrase $cos \\phi = 1$ indicates pure ohmic load without capacitance or inductance. In this case we can apply Ohm's law\n",
        "\n",
        "$$\n",
        "U = R \\cdot I\n",
        "$$\n",
        "\n",
        "And we get:\n",
        "\n",
        "$$\n",
        "U_{tb1} = R_{tb1} \\cdot I_{tb1} = 5\\Omega \\cdot 50\\mathrm{A} = 250\\mathrm{V}\n",
        "$$\n",
        "$$\n",
        "U_{tb2} = R_{tb2} \\cdot I_{tb2} = 5\\Omega \\cdot 50\\mathrm{A} = 250\\mathrm{V}\n",
        "$$\n",
        "$$\n",
        "U_{tb3} = R_{tb3} \\cdot I_{tb3} = 5\\Omega \\cdot 100\\mathrm{A} = 500\\mathrm{V}\n",
        "$$\n",
        "\n",
        "So what voltage are these devices operated on?"
      ],
      "metadata": {
        "id": "BdzC1LTmFv3g"
      }
    },
    {
      "cell_type": "markdown",
      "source": [
        "Here is a translation of the questions to English:\n",
        "\n",
        "## Image 1 (Exercise BT3)\n",
        "\n",
        "**BT3: Given the electrical network as shown in the figure. Three-phase AC source, f = 50 Hz, transformer ration 15 kV/380 V**\n",
        "\n",
        "- Data\n",
        "  - $I_{tb1} = 50 A$\n",
        "  - $I_{tb2} = 50 A$\n",
        "  - $I_{tb3} = 100 A$\n",
        "  - $cos \\phi = 1$\n",
        "  - $\\rho = 200 \\Omega m$\n",
        "  - $R_{tb1} = R_{tb2} = R_{tb3} = 5 \\Omega$\n",
        "\n",
        "**Tasks:**\n",
        "\n",
        "a) What type of system is this? State its advantages and disadvantages.\n",
        "\n",
        "b) Find $U_{tx1}$, $U_{tx2}$, $U_{tx3}$ when the PEN conductor simultaneously breaks at GE and ED.\n",
        "\n",
        "c) When the sytem is operating normally, determine  $U_{tx1}$, $U_{tx2}$, $U_{tx3}$? (Assume $R_{tb1} = R_{tb2} = R_{tb3} = 0 \\Omega$)\n",
        "\n",
        "d) Device 1 or device 2 has a casing fault to phase C. Draw the equivalent circuit and calculate $U_{tx1}$, $U_{tx2}$, $U_{tx3}$. (Assume $R_{tb1} = R_{tb2} = R_{tb3} = 0 \\Omega$)\n",
        "\n",
        "e) For case (c) (TB casing fault to phase C), determine how much the casing voltage of devices 1, 2, 3 increases comp[ared with the source neutral N?\n",
        "  "
      ],
      "metadata": {
        "id": "Z-p5uZ4jMHG6"
      }
    },
    {
      "cell_type": "markdown",
      "source": [
        "## Solution part a\n",
        "\n",
        "This is a TN-C system.\n",
        "\n",
        "### Advantages:\n",
        "It uses less copper with the combined PEN conductor compared to the 5-wire system with a separate PE conductor, that usually carries now current at all. Production cost of a wire are 20% lower because of the savings in the copper wire.\n",
        "\n",
        "### Disadvantages:\n",
        "In unbalances systems a current is flowing over the PE conductor, since it is combined with N. The potential at PEN can locally differ from ground by a substantial amount because of that.\n",
        "\n"
      ],
      "metadata": {
        "id": "ui_OhZpRPZQn"
      }
    },
    {
      "cell_type": "markdown",
      "source": [
        "## Solution part b (provided, possibly not correct)\n",
        "\n",
        "TN-C system - PE conductor simultaneously broken at GE and ED\n",
        "\n",
        "- Device 1 operates noramlly (PEN conductor segment has no current)\n",
        "\n",
        "$$\n",
        "U_{tx1} = U_{N-earth} = -4 \\cdot I_{tb2} = -62.4 \\mathrm{V}\n",
        "$$\n",
        "\n",
        "- Device 3 does not operate, current flows from phase -> through $R_{tb}$ and stays on casing with $U_{phase} = 220\\mathrm{V}$\\\n",
        "  $\\Rightarrow$ If a person touches the casing of device 3:\n",
        "\n",
        "$$\n",
        "U_{tx3} = 220 \\mathrm{V}\n",
        "$$\n",
        "\n",
        "- Device 2 still operates:\\\n",
        "  $I_{tb2} = 50\\mathrm{A}$\\\n",
        "  $\\Rightarrow R_{tb2} = 220/50 = 4.4 \\Omega$\n",
        "\n",
        "- Equivalent circuit resistance:\n",
        "$$\n",
        "R_{mach} = 0.2\\Omega + 0.3\\Omega + 0.1\\Omega + 4.4\\Omega + 0.1\\Omega + 5\\Omega + 4\\Omega = 14.1 \\Omega\n",
        "$$\n",
        "- Current through device 2:\n",
        "$$\n",
        "I_{tb2}' = \\frac{220\\mathrm{V}}{14.1\\Omega} = 15.6\\mathrm{A}\n",
        "$$\n",
        "- Contact voltage for device 2:\n",
        "$$\n",
        "U_{tx2} = V_F - V_{ch-x=0} = 5.1 \\cdot I_{tb2}' - 5 \\cdot I_{tb2}' = 1.56\\mathrm{V}\n",
        "$$"
      ],
      "metadata": {
        "id": "aGRxV5FnPf2R"
      }
    },
    {
      "cell_type": "markdown",
      "source": [
        "## Alternative solution for part b device 2 by Thiên Phú:\n",
        "\n",
        "- Device 2 still operates:\\\n",
        "  The resistance of the device is already given as $R_{tb2} = 5 \\Omega$\n",
        "- Equivalent circuit resistance:\n",
        "$$\n",
        "R_{mach} = 0.2\\Omega + 0.3\\Omega + 0.1\\Omega + 5\\Omega + 0.1\\Omega + 5\\Omega + 4\\Omega = 14.7 \\Omega\n",
        "$$\n",
        "- Current through device 2:\n",
        "$$\n",
        "I_{tb2}' = \\frac{220\\mathrm{V}}{14.7\\Omega} = 15.0\\mathrm{A}\n",
        "$$\n",
        "- Contact voltage for device 2:\n",
        "$$\n",
        "U_{tx2} = V_F - V_{ch-x=0} = 5.1 \\cdot I_{tb2}' - 5 \\cdot I_{tb2}' = 1.50\\mathrm{V}\n",
        "$$\n"
      ],
      "metadata": {
        "id": "ugwk26F5SRWM"
      }
    },
    {
      "cell_type": "markdown",
      "source": [
        "Provided answers:\n",
        "\n",
        "![part 2](https://kreier.github.io/nam-electric/images/2025-09-27_p2.jpg)\n",
        "![part 3](https://kreier.github.io/nam-electric/images/2025-09-27_p3.jpg)\n",
        "![part 4](https://kreier.github.io/nam-electric/images/2025-09-27_p4.jpg)\n"
      ],
      "metadata": {
        "id": "aG7Dq7nCRpyX"
      }
    }
  ]
}